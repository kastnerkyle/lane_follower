{
 "cells": [
  {
   "cell_type": "markdown",
   "metadata": {},
   "source": [
    "# Data preprocessing"
   ]
  },
  {
   "cell_type": "code",
   "execution_count": 2,
   "metadata": {
    "collapsed": true
   },
   "outputs": [],
   "source": [
    "#Create references to important directories we will use over and over\n",
    "import os, sys\n",
    "current_dir = os.getcwd()\n",
    "SCRIPTS_HOME_DIR = current_dir\n",
    "DATA_HOME_DIR = current_dir+'/data'"
   ]
  },
  {
   "cell_type": "code",
   "execution_count": 1,
   "metadata": {
    "collapsed": true
   },
   "outputs": [],
   "source": [
    "from glob import glob\n",
    "import numpy as np\n",
    "import _pickle as pickle\n",
    "import PIL\n",
    "from PIL import Image\n",
    "from PIL import ImageOps\n",
    "from tqdm import tqdm\n",
    "import bcolz"
   ]
  },
  {
   "cell_type": "code",
   "execution_count": 27,
   "metadata": {
    "collapsed": true
   },
   "outputs": [],
   "source": [
    "def resize_32(image_path):\n",
    "    \"\"\" chops off the top half of a 32 by 32 image so it is 16 by 16 \"\"\"\n",
    "    # open image and get array\n",
    "    image_array = np.asarray(Image.open(image_path))\n",
    "    if image_array.shape == (32, 32):\n",
    "        image_array = image_array[16:,:]\n",
    "        img = Image.fromarray(image_array, 'L')\n",
    "        img.save(image_path)"
   ]
  },
  {
   "cell_type": "code",
   "execution_count": 30,
   "metadata": {
    "collapsed": false
   },
   "outputs": [
    {
     "name": "stdout",
     "output_type": "stream",
     "text": [
      "/home/nathan/olin/spring2017/lane_follower/src/scripts/data/train/binary\n"
     ]
    }
   ],
   "source": [
    "%cd $DATA_HOME_DIR/train/binary\n",
    "folders = ([name for name in os.listdir(\".\") if os.path.isdir(name)])"
   ]
  },
  {
   "cell_type": "code",
   "execution_count": 31,
   "metadata": {
    "collapsed": false
   },
   "outputs": [
    {
     "name": "stderr",
     "output_type": "stream",
     "text": [
      "100%|██████████| 3/3 [00:00<00:00, 10.26it/s]\n"
     ]
    }
   ],
   "source": [
    "for folder in tqdm(folders):\n",
    "    os.chdir(DATA_HOME_DIR + '/train/binary/' + folder)\n",
    "    g = glob('*.png')\n",
    "    for image_path in g:\n",
    "        resize_32(image_path)"
   ]
  },
  {
   "cell_type": "code",
   "execution_count": 32,
   "metadata": {
    "collapsed": false
   },
   "outputs": [
    {
     "name": "stdout",
     "output_type": "stream",
     "text": [
      "/home/nathan/olin/spring2017/lane_follower/src/scripts/data/test/binary\n"
     ]
    }
   ],
   "source": [
    "%cd $DATA_HOME_DIR/test/binary\n",
    "folders = ([name for name in os.listdir(\".\") if os.path.isdir(name)])"
   ]
  },
  {
   "cell_type": "code",
   "execution_count": 33,
   "metadata": {
    "collapsed": false
   },
   "outputs": [
    {
     "name": "stderr",
     "output_type": "stream",
     "text": [
      "100%|██████████| 3/3 [00:00<00:00, 19.83it/s]\n"
     ]
    }
   ],
   "source": [
    "for folder in tqdm(folders):\n",
    "    os.chdir(DATA_HOME_DIR + '/test/binary/' + folder)\n",
    "    g = glob('*.png')\n",
    "    for image_path in g:\n",
    "        resize_32(image_path)"
   ]
  },
  {
   "cell_type": "markdown",
   "metadata": {},
   "source": [
    "## Average Image"
   ]
  },
  {
   "cell_type": "code",
   "execution_count": 34,
   "metadata": {
    "collapsed": false
   },
   "outputs": [
    {
     "name": "stdout",
     "output_type": "stream",
     "text": [
      "/home/nathan/olin/spring2017/lane_follower/src/scripts/data/train/binary\n"
     ]
    }
   ],
   "source": [
    "%cd $DATA_HOME_DIR/train/binary\n",
    "folders = ([name for name in os.listdir(\".\") if os.path.isdir(name)])"
   ]
  },
  {
   "cell_type": "code",
   "execution_count": 59,
   "metadata": {
    "collapsed": false
   },
   "outputs": [
    {
     "name": "stderr",
     "output_type": "stream",
     "text": [
      "100%|██████████| 3/3 [00:00<00:00, 31.94it/s]\n"
     ]
    }
   ],
   "source": [
    "for folder in tqdm(folders):\n",
    "    os.chdir(DATA_HOME_DIR + '/train/binary/' + folder)\n",
    "    g = glob('*.png')\n",
    "    imgs = np.array([np.asarray(Image.open(image_path)) for image_path in g])"
   ]
  },
  {
   "cell_type": "code",
   "execution_count": 58,
   "metadata": {
    "collapsed": false
   },
   "outputs": [
    {
     "data": {
      "image/png": "[encoded data removed]",
      "text/plain": [
       "<PIL.Image.Image image mode=L size=32x16 at 0x7F44C55BE630>"
      ]
     },
     "execution_count": 58,
     "metadata": {},
     "output_type": "execute_result"
    }
   ],
   "source": [
    "img_avg = imgs.sum(axis=0) / imgs.shape[0]\n",
    "img = Image.fromarray(img_avg, 'L')"
   ]
  },
  {
   "cell_type": "code",
   "execution_count": null,
   "metadata": {
    "collapsed": true
   },
   "outputs": [],
   "source": []
  }
 ],
 "metadata": {
  "anaconda-cloud": {},
  "kernelspec": {
   "display_name": "Python [conda env:deepLearning]",
   "language": "python",
   "name": "conda-env-deepLearning-py"
  },
  "language_info": {
   "codemirror_mode": {
    "name": "ipython",
    "version": 3
   },
   "file_extension": ".py",
   "mimetype": "text/x-python",
   "name": "python",
   "nbconvert_exporter": "python",
   "pygments_lexer": "ipython3",
   "version": "3.5.2"
  }
 },
 "nbformat": 4,
 "nbformat_minor": 1
}
